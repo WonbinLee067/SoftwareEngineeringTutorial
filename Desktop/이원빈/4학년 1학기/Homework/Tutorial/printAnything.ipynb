{
 "cells": [
  {
   "cell_type": "code",
   "execution_count": 1,
   "metadata": {},
   "outputs": [
    {
     "name": "stdout",
     "output_type": "stream",
     "text": [
      "이름 :  이원빈\n",
      "전공 :  소프트웨어공학\n",
      "나이 :  23\n",
      "학번 :  2018203067\n"
     ]
    }
   ],
   "source": [
    "name = \"이원빈\"\n",
    "major = \"소프트웨어공학\"\n",
    "age = 23\n",
    "ID = \"2018203067\"\n",
    "\n",
    "print(\"이름 : \", name)\n",
    "print(\"전공 : \", major)\n",
    "print(\"나이 : \", age)\n",
    "print(\"학번 : \", ID)"
   ]
  },
  {
   "cell_type": "code",
   "execution_count": null,
   "metadata": {},
   "outputs": [],
   "source": []
  }
 ],
 "metadata": {
  "kernelspec": {
   "display_name": "Python 3",
   "language": "python",
   "name": "python3"
  },
  "language_info": {
   "codemirror_mode": {
    "name": "ipython",
    "version": 3
   },
   "file_extension": ".py",
   "mimetype": "text/x-python",
   "name": "python",
   "nbconvert_exporter": "python",
   "pygments_lexer": "ipython3",
   "version": "3.8.7"
  }
 },
 "nbformat": 4,
 "nbformat_minor": 4
}
